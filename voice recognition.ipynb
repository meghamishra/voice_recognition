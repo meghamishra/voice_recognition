{
 "cells": [
  {
   "cell_type": "code",
   "execution_count": 6,
   "metadata": {
    "collapsed": true
   },
   "outputs": [],
   "source": [
    "import pandas as pd\n",
    "import numpy as np\n",
    "from random import randint\n",
    "from sklearn.model_selection import cross_val_predict\n",
    "from sklearn.preprocessing import StandardScaler\n",
    "from sklearn.neighbors import KNeighborsClassifier\n",
    "from sklearn.metrics import accuracy_score,confusion_matrix,f1_score\n",
    "from sklearn.metrics.pairwise import cosine_similarity\n",
    "from sklearn.preprocessing import LabelEncoder\n",
    "import scipy.io.wavfile \n",
    "#import librosa\n"
   ]
  },
  {
   "cell_type": "code",
   "execution_count": 7,
   "metadata": {
    "collapsed": true
   },
   "outputs": [],
   "source": [
    "rate1, data1 = scipy.io.wavfile.read('Megha.wav')\n",
    "rate2, data2 = scipy.io.wavfile.read('Anjali.wav')\n",
    "rate3, data3 = scipy.io.wavfile.read('Tejal.wav')\n",
    "rate4, data4 = scipy.io.wavfile.read('Karishma.wav')\n",
    "rate5, data5 = scipy.io.wavfile.read('Manisha.wav')"
   ]
  },
  {
   "cell_type": "code",
   "execution_count": 9,
   "metadata": {},
   "outputs": [
    {
     "name": "stdout",
     "output_type": "stream",
     "text": [
      "(75000L,)\n",
      "(75000L,)\n",
      "(75000L,)\n",
      "(75000L,)\n",
      "(75000L,)\n"
     ]
    },
    {
     "data": {
      "text/html": [
       "<div>\n",
       "<style>\n",
       "    .dataframe thead tr:only-child th {\n",
       "        text-align: right;\n",
       "    }\n",
       "\n",
       "    .dataframe thead th {\n",
       "        text-align: left;\n",
       "    }\n",
       "\n",
       "    .dataframe tbody tr th {\n",
       "        vertical-align: top;\n",
       "    }\n",
       "</style>\n",
       "<table border=\"1\" class=\"dataframe\">\n",
       "  <thead>\n",
       "    <tr style=\"text-align: right;\">\n",
       "      <th></th>\n",
       "      <th>rate</th>\n",
       "      <th>0</th>\n",
       "      <th>1</th>\n",
       "      <th>2</th>\n",
       "      <th>3</th>\n",
       "      <th>4</th>\n",
       "      <th>5</th>\n",
       "      <th>6</th>\n",
       "      <th>7</th>\n",
       "      <th>8</th>\n",
       "      <th>...</th>\n",
       "      <th>74990</th>\n",
       "      <th>74991</th>\n",
       "      <th>74992</th>\n",
       "      <th>74993</th>\n",
       "      <th>74994</th>\n",
       "      <th>74995</th>\n",
       "      <th>74996</th>\n",
       "      <th>74997</th>\n",
       "      <th>74998</th>\n",
       "      <th>74999</th>\n",
       "    </tr>\n",
       "  </thead>\n",
       "  <tbody>\n",
       "    <tr>\n",
       "      <th>0</th>\n",
       "      <td>44100</td>\n",
       "      <td>0</td>\n",
       "      <td>0</td>\n",
       "      <td>0</td>\n",
       "      <td>0</td>\n",
       "      <td>0</td>\n",
       "      <td>0</td>\n",
       "      <td>0</td>\n",
       "      <td>0</td>\n",
       "      <td>0</td>\n",
       "      <td>...</td>\n",
       "      <td>-1106</td>\n",
       "      <td>134</td>\n",
       "      <td>-1194</td>\n",
       "      <td>-103</td>\n",
       "      <td>-1046</td>\n",
       "      <td>-37</td>\n",
       "      <td>-885</td>\n",
       "      <td>255</td>\n",
       "      <td>-1056</td>\n",
       "      <td>8</td>\n",
       "    </tr>\n",
       "    <tr>\n",
       "      <th>1</th>\n",
       "      <td>44100</td>\n",
       "      <td>0</td>\n",
       "      <td>0</td>\n",
       "      <td>0</td>\n",
       "      <td>0</td>\n",
       "      <td>0</td>\n",
       "      <td>0</td>\n",
       "      <td>0</td>\n",
       "      <td>0</td>\n",
       "      <td>0</td>\n",
       "      <td>...</td>\n",
       "      <td>911</td>\n",
       "      <td>963</td>\n",
       "      <td>825</td>\n",
       "      <td>1220</td>\n",
       "      <td>830</td>\n",
       "      <td>1012</td>\n",
       "      <td>951</td>\n",
       "      <td>1025</td>\n",
       "      <td>870</td>\n",
       "      <td>1320</td>\n",
       "    </tr>\n",
       "    <tr>\n",
       "      <th>2</th>\n",
       "      <td>44100</td>\n",
       "      <td>0</td>\n",
       "      <td>0</td>\n",
       "      <td>0</td>\n",
       "      <td>0</td>\n",
       "      <td>0</td>\n",
       "      <td>0</td>\n",
       "      <td>0</td>\n",
       "      <td>0</td>\n",
       "      <td>0</td>\n",
       "      <td>...</td>\n",
       "      <td>-33</td>\n",
       "      <td>-41</td>\n",
       "      <td>-25</td>\n",
       "      <td>62</td>\n",
       "      <td>-2</td>\n",
       "      <td>152</td>\n",
       "      <td>31</td>\n",
       "      <td>89</td>\n",
       "      <td>62</td>\n",
       "      <td>-3</td>\n",
       "    </tr>\n",
       "    <tr>\n",
       "      <th>3</th>\n",
       "      <td>44100</td>\n",
       "      <td>0</td>\n",
       "      <td>0</td>\n",
       "      <td>0</td>\n",
       "      <td>0</td>\n",
       "      <td>0</td>\n",
       "      <td>0</td>\n",
       "      <td>0</td>\n",
       "      <td>0</td>\n",
       "      <td>0</td>\n",
       "      <td>...</td>\n",
       "      <td>45</td>\n",
       "      <td>32</td>\n",
       "      <td>-3</td>\n",
       "      <td>-77</td>\n",
       "      <td>89</td>\n",
       "      <td>70</td>\n",
       "      <td>192</td>\n",
       "      <td>123</td>\n",
       "      <td>95</td>\n",
       "      <td>-145</td>\n",
       "    </tr>\n",
       "    <tr>\n",
       "      <th>4</th>\n",
       "      <td>44100</td>\n",
       "      <td>0</td>\n",
       "      <td>0</td>\n",
       "      <td>0</td>\n",
       "      <td>0</td>\n",
       "      <td>0</td>\n",
       "      <td>0</td>\n",
       "      <td>0</td>\n",
       "      <td>0</td>\n",
       "      <td>0</td>\n",
       "      <td>...</td>\n",
       "      <td>193</td>\n",
       "      <td>-252</td>\n",
       "      <td>264</td>\n",
       "      <td>57</td>\n",
       "      <td>205</td>\n",
       "      <td>100</td>\n",
       "      <td>209</td>\n",
       "      <td>-94</td>\n",
       "      <td>227</td>\n",
       "      <td>-109</td>\n",
       "    </tr>\n",
       "  </tbody>\n",
       "</table>\n",
       "<p>5 rows × 75001 columns</p>\n",
       "</div>"
      ],
      "text/plain": [
       "    rate  0  1  2  3  4  5  6  7  8  ...    74990  74991  74992  74993  74994  \\\n",
       "0  44100  0  0  0  0  0  0  0  0  0  ...    -1106    134  -1194   -103  -1046   \n",
       "1  44100  0  0  0  0  0  0  0  0  0  ...      911    963    825   1220    830   \n",
       "2  44100  0  0  0  0  0  0  0  0  0  ...      -33    -41    -25     62     -2   \n",
       "3  44100  0  0  0  0  0  0  0  0  0  ...       45     32     -3    -77     89   \n",
       "4  44100  0  0  0  0  0  0  0  0  0  ...      193   -252    264     57    205   \n",
       "\n",
       "   74995  74996  74997  74998  74999  \n",
       "0    -37   -885    255  -1056      8  \n",
       "1   1012    951   1025    870   1320  \n",
       "2    152     31     89     62     -3  \n",
       "3     70    192    123     95   -145  \n",
       "4    100    209    -94    227   -109  \n",
       "\n",
       "[5 rows x 75001 columns]"
      ]
     },
     "execution_count": 9,
     "metadata": {},
     "output_type": "execute_result"
    }
   ],
   "source": [
    "data1_new = data1.flatten()[:75000]\n",
    "#data1_new.shape\n",
    "data2_new = data2.flatten()[:75000]\n",
    "data3_new = data3.flatten()[:75000]\n",
    "data4_new = data4.flatten()[:75000]\n",
    "data5_new = data5.flatten()[:75000]\n",
    "\n",
    "print(data1_new.shape)\n",
    "print(data2_new.shape)\n",
    "print(data3_new.shape)\n",
    "print(data4_new.shape)\n",
    "print(data5_new.shape)\n",
    "\n",
    "\n",
    "#x = np.array([[rate1, rate2, rate3,rate4], [data1, data2, data3,data4]])\n",
    "df2 = pd.DataFrame()\n",
    "\n",
    "b=[data1_new,data2_new,data3_new,data4_new,data5_new]\n",
    "#nd_a = np.array(a)\n",
    "nd_b=np.array(b)\n",
    "x2=[1,2,3,4,5]\n",
    "\n",
    "df2['rate'] = [rate1,rate2,rate3,rate4,rate5]\n",
    "for i in range(0,75000):\n",
    "    df2[str(i)] = [data1_new[i],data2_new[i],data3_new[i],data4_new[i],data5_new[i]]\n",
    "df2['target'] = x2\n",
    "y2=df2['target'] \n",
    "\n",
    "\n",
    "df2=df2.drop('target',axis=1)\n",
    "df2"
   ]
  },
  {
   "cell_type": "code",
   "execution_count": 5,
   "metadata": {},
   "outputs": [
    {
     "data": {
      "text/plain": [
       "(5, 75001)"
      ]
     },
     "execution_count": 5,
     "metadata": {},
     "output_type": "execute_result"
    }
   ],
   "source": [
    "df2.shape"
   ]
  },
  {
   "cell_type": "code",
   "execution_count": 6,
   "metadata": {},
   "outputs": [
    {
     "data": {
      "text/plain": [
       "KNeighborsClassifier(algorithm='auto', leaf_size=30, metric='minkowski',\n",
       "           metric_params=None, n_jobs=1, n_neighbors=5, p=2,\n",
       "           weights='uniform')"
      ]
     },
     "execution_count": 6,
     "metadata": {},
     "output_type": "execute_result"
    }
   ],
   "source": [
    "knn = KNeighborsClassifier(n_neighbors=5)\n",
    "#y_pred=cross_val_predict(knn,A,y,cv=4,n_jobs=-1)\n",
    "#print('Accuracy Score: ' + str(accuracy_score(y,y_pred)) + '\\n')\n",
    "knn.fit(df2.values, y2)\n"
   ]
  },
  {
   "cell_type": "code",
   "execution_count": 22,
   "metadata": {
    "collapsed": true
   },
   "outputs": [],
   "source": [
    " df=pd.DataFrame()\n",
    "ratetest,datatest=scipy.io.wavfile.read('meghatest.wav')\n",
    "datatestnew = datatest.flatten()[:75000]\n",
    "df['rate']=[ratetest]\n",
    "for i in range(0,75000):\n",
    "    df[str(i)]=0\n",
    "for i in range(len(datatestnew)):\n",
    "    df[str(i)] = [datatest[i]]\n",
    "df.shape\n",
    "#print(knn.predict(df))\n"
   ]
  },
  {
   "cell_type": "code",
   "execution_count": 2,
   "metadata": {
    "collapsed": true
   },
   "outputs": [],
   "source": [
    "df=pd.DataFrame()\n",
    "ratetest,datatest=scipy.io.wavfile.read('meghatest.wav')\n",
    "datatestnew = datatest.flatten()[:75000]"
   ]
  },
  {
   "cell_type": "code",
   "execution_count": 3,
   "metadata": {},
   "outputs": [
    {
     "data": {
      "text/plain": [
       "(75000L,)"
      ]
     },
     "execution_count": 3,
     "metadata": {},
     "output_type": "execute_result"
    }
   ],
   "source": [
    "datatestnew.shape"
   ]
  },
  {
   "cell_type": "code",
   "execution_count": 4,
   "metadata": {},
   "outputs": [
    {
     "data": {
      "text/plain": [
       "(142080L, 2L)"
      ]
     },
     "execution_count": 4,
     "metadata": {},
     "output_type": "execute_result"
    }
   ],
   "source": [
    "datatest.shape"
   ]
  },
  {
   "cell_type": "code",
   "execution_count": 5,
   "metadata": {},
   "outputs": [
    {
     "data": {
      "text/plain": [
       "75000"
      ]
     },
     "execution_count": 5,
     "metadata": {},
     "output_type": "execute_result"
    }
   ],
   "source": [
    "len(datatestnew)"
   ]
  },
  {
   "cell_type": "code",
   "execution_count": null,
   "metadata": {
    "collapsed": true
   },
   "outputs": [],
   "source": []
  }
 ],
 "metadata": {
  "kernelspec": {
   "display_name": "Python 3",
   "language": "python",
   "name": "python3"
  },
  "language_info": {
   "codemirror_mode": {
    "name": "ipython",
    "version": 3
   },
   "file_extension": ".py",
   "mimetype": "text/x-python",
   "name": "python",
   "nbconvert_exporter": "python",
   "pygments_lexer": "ipython3",
   "version": "3.6.6"
  }
 },
 "nbformat": 4,
 "nbformat_minor": 2
}
